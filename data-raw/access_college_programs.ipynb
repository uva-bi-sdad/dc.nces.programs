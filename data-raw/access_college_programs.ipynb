{
 "cells": [
  {
   "cell_type": "code",
   "execution_count": 2,
   "id": "c8b50369",
   "metadata": {},
   "outputs": [
    {
     "name": "stderr",
     "output_type": "stream",
     "text": [
      "/Users/hanna/opt/anaconda3/lib/python3.8/site-packages/geopandas/_compat.py:111: UserWarning: The Shapely GEOS version (3.8.0-CAPI-1.13.1 ) is incompatible with the GEOS version PyGEOS was compiled with (3.9.1-CAPI-1.14.2). Conversions between both will be slow.\n",
      "  warnings.warn(\n"
     ]
    }
   ],
   "source": [
    "import numpy as np\n",
    "import re\n",
    "import time\n",
    "import pandas as pd\n",
    "\n",
    "# spatial imports\n",
    "import geopandas as gpd\n",
    "import pygeos\n",
    "\n",
    "# FCA specific imports\n",
    "from access import Access, weights"
   ]
  },
  {
   "cell_type": "code",
   "execution_count": 20,
   "id": "a330765d",
   "metadata": {},
   "outputs": [],
   "source": [
    "supply = pd.read_csv(\"engin_rel_ct_supply.csv\") # engin_rel_tr_supply, engin_ct_supply, ...\n",
    "demand = pd.read_csv(\"prog_ct_demand.csv\") # prog_ct_demand.csv\n",
    "times = pd.read_csv(\"engin_rel_ct_drive_times.csv\") # engin_rel_re_drive_times.csv. engin_ct_drive_times.csv ...\n",
    "times = times.dropna()\n",
    "demand = demand.dropna()\n",
    "supply = supply.dropna()\n"
   ]
  },
  {
   "cell_type": "code",
   "execution_count": 21,
   "id": "7134f548",
   "metadata": {},
   "outputs": [
    {
     "data": {
      "text/html": [
       "<div>\n",
       "<style scoped>\n",
       "    .dataframe tbody tr th:only-of-type {\n",
       "        vertical-align: middle;\n",
       "    }\n",
       "\n",
       "    .dataframe tbody tr th {\n",
       "        vertical-align: top;\n",
       "    }\n",
       "\n",
       "    .dataframe thead th {\n",
       "        text-align: right;\n",
       "    }\n",
       "</style>\n",
       "<table border=\"1\" class=\"dataframe\">\n",
       "  <thead>\n",
       "    <tr style=\"text-align: right;\">\n",
       "      <th></th>\n",
       "      <th>GEOID</th>\n",
       "      <th>NAME</th>\n",
       "      <th>popE</th>\n",
       "      <th>popM</th>\n",
       "      <th>geometry</th>\n",
       "      <th>lon</th>\n",
       "      <th>lat</th>\n",
       "      <th>geometry.1</th>\n",
       "    </tr>\n",
       "  </thead>\n",
       "  <tbody>\n",
       "    <tr>\n",
       "      <th>0</th>\n",
       "      <td>51041100206</td>\n",
       "      <td>Census Tract 1002.06, Chesterfield County, Vir...</td>\n",
       "      <td>5218</td>\n",
       "      <td>488</td>\n",
       "      <td>c(-77.5334912927496, 37.4547728146469)</td>\n",
       "      <td>-77.533491</td>\n",
       "      <td>37.454773</td>\n",
       "      <td>c(-77.5334912927496, 37.4547728146469)</td>\n",
       "    </tr>\n",
       "    <tr>\n",
       "      <th>1</th>\n",
       "      <td>51059481202</td>\n",
       "      <td>Census Tract 4812.02, Fairfax County, Virginia</td>\n",
       "      <td>4632</td>\n",
       "      <td>340</td>\n",
       "      <td>c(-77.370777247977, 38.9425931851988)</td>\n",
       "      <td>-77.370777</td>\n",
       "      <td>38.942593</td>\n",
       "      <td>c(-77.370777247977, 38.9425931851988)</td>\n",
       "    </tr>\n",
       "    <tr>\n",
       "      <th>2</th>\n",
       "      <td>51710004800</td>\n",
       "      <td>Census Tract 48, Norfolk city, Virginia</td>\n",
       "      <td>744</td>\n",
       "      <td>80</td>\n",
       "      <td>c(-76.2799115849972, 36.8446379977949)</td>\n",
       "      <td>-76.279912</td>\n",
       "      <td>36.844638</td>\n",
       "      <td>c(-76.2799115849972, 36.8446379977949)</td>\n",
       "    </tr>\n",
       "    <tr>\n",
       "      <th>3</th>\n",
       "      <td>51117930300</td>\n",
       "      <td>Census Tract 9303, Mecklenburg County, Virginia</td>\n",
       "      <td>3037</td>\n",
       "      <td>274</td>\n",
       "      <td>c(-78.2500399870202, 36.7273772740616)</td>\n",
       "      <td>-78.250040</td>\n",
       "      <td>36.727377</td>\n",
       "      <td>c(-78.2500399870202, 36.7273772740616)</td>\n",
       "    </tr>\n",
       "    <tr>\n",
       "      <th>4</th>\n",
       "      <td>51143010300</td>\n",
       "      <td>Census Tract 103, Pittsylvania County, Virginia</td>\n",
       "      <td>3288</td>\n",
       "      <td>313</td>\n",
       "      <td>c(-79.4799204374501, 36.9886828312315)</td>\n",
       "      <td>-79.479920</td>\n",
       "      <td>36.988683</td>\n",
       "      <td>c(-79.4799204374501, 36.9886828312315)</td>\n",
       "    </tr>\n",
       "    <tr>\n",
       "      <th>...</th>\n",
       "      <td>...</td>\n",
       "      <td>...</td>\n",
       "      <td>...</td>\n",
       "      <td>...</td>\n",
       "      <td>...</td>\n",
       "      <td>...</td>\n",
       "      <td>...</td>\n",
       "      <td>...</td>\n",
       "    </tr>\n",
       "    <tr>\n",
       "      <th>1895</th>\n",
       "      <td>51590000300</td>\n",
       "      <td>Census Tract 3, Danville city, Virginia</td>\n",
       "      <td>2562</td>\n",
       "      <td>297</td>\n",
       "      <td>c(-79.3911488979682, 36.6044700154587)</td>\n",
       "      <td>-79.391149</td>\n",
       "      <td>36.604470</td>\n",
       "      <td>c(-79.3911488979682, 36.6044700154587)</td>\n",
       "    </tr>\n",
       "    <tr>\n",
       "      <th>1896</th>\n",
       "      <td>51197050200</td>\n",
       "      <td>Census Tract 502, Wythe County, Virginia</td>\n",
       "      <td>5671</td>\n",
       "      <td>383</td>\n",
       "      <td>c(-81.2212513540019, 36.972624986127)</td>\n",
       "      <td>-81.221251</td>\n",
       "      <td>36.972625</td>\n",
       "      <td>c(-81.2212513540019, 36.972624986127)</td>\n",
       "    </tr>\n",
       "    <tr>\n",
       "      <th>1897</th>\n",
       "      <td>51700031602</td>\n",
       "      <td>Census Tract 316.02, Newport News city, Virginia</td>\n",
       "      <td>3484</td>\n",
       "      <td>297</td>\n",
       "      <td>c(-76.4668048518816, 37.0701152891273)</td>\n",
       "      <td>-76.466805</td>\n",
       "      <td>37.070115</td>\n",
       "      <td>c(-76.4668048518816, 37.0701152891273)</td>\n",
       "    </tr>\n",
       "    <tr>\n",
       "      <th>1898</th>\n",
       "      <td>51059482202</td>\n",
       "      <td>Census Tract 4822.02, Fairfax County, Virginia</td>\n",
       "      <td>3586</td>\n",
       "      <td>316</td>\n",
       "      <td>c(-77.3460273941124, 38.9569849832375)</td>\n",
       "      <td>-77.346027</td>\n",
       "      <td>38.956985</td>\n",
       "      <td>c(-77.3460273941124, 38.9569849832375)</td>\n",
       "    </tr>\n",
       "    <tr>\n",
       "      <th>1899</th>\n",
       "      <td>51083930202</td>\n",
       "      <td>Census Tract 9302.02, Halifax County, Virginia</td>\n",
       "      <td>1931</td>\n",
       "      <td>253</td>\n",
       "      <td>c(-79.0742462204221, 36.8098872526174)</td>\n",
       "      <td>-79.074246</td>\n",
       "      <td>36.809887</td>\n",
       "      <td>c(-79.0742462204221, 36.8098872526174)</td>\n",
       "    </tr>\n",
       "  </tbody>\n",
       "</table>\n",
       "<p>1900 rows × 8 columns</p>\n",
       "</div>"
      ],
      "text/plain": [
       "            GEOID                                               NAME  popE  \\\n",
       "0     51041100206  Census Tract 1002.06, Chesterfield County, Vir...  5218   \n",
       "1     51059481202     Census Tract 4812.02, Fairfax County, Virginia  4632   \n",
       "2     51710004800            Census Tract 48, Norfolk city, Virginia   744   \n",
       "3     51117930300    Census Tract 9303, Mecklenburg County, Virginia  3037   \n",
       "4     51143010300    Census Tract 103, Pittsylvania County, Virginia  3288   \n",
       "...           ...                                                ...   ...   \n",
       "1895  51590000300            Census Tract 3, Danville city, Virginia  2562   \n",
       "1896  51197050200           Census Tract 502, Wythe County, Virginia  5671   \n",
       "1897  51700031602   Census Tract 316.02, Newport News city, Virginia  3484   \n",
       "1898  51059482202     Census Tract 4822.02, Fairfax County, Virginia  3586   \n",
       "1899  51083930202     Census Tract 9302.02, Halifax County, Virginia  1931   \n",
       "\n",
       "      popM                                geometry        lon        lat  \\\n",
       "0      488  c(-77.5334912927496, 37.4547728146469) -77.533491  37.454773   \n",
       "1      340   c(-77.370777247977, 38.9425931851988) -77.370777  38.942593   \n",
       "2       80  c(-76.2799115849972, 36.8446379977949) -76.279912  36.844638   \n",
       "3      274  c(-78.2500399870202, 36.7273772740616) -78.250040  36.727377   \n",
       "4      313  c(-79.4799204374501, 36.9886828312315) -79.479920  36.988683   \n",
       "...    ...                                     ...        ...        ...   \n",
       "1895   297  c(-79.3911488979682, 36.6044700154587) -79.391149  36.604470   \n",
       "1896   383   c(-81.2212513540019, 36.972624986127) -81.221251  36.972625   \n",
       "1897   297  c(-76.4668048518816, 37.0701152891273) -76.466805  37.070115   \n",
       "1898   316  c(-77.3460273941124, 38.9569849832375) -77.346027  38.956985   \n",
       "1899   253  c(-79.0742462204221, 36.8098872526174) -79.074246  36.809887   \n",
       "\n",
       "                                  geometry.1  \n",
       "0     c(-77.5334912927496, 37.4547728146469)  \n",
       "1      c(-77.370777247977, 38.9425931851988)  \n",
       "2     c(-76.2799115849972, 36.8446379977949)  \n",
       "3     c(-78.2500399870202, 36.7273772740616)  \n",
       "4     c(-79.4799204374501, 36.9886828312315)  \n",
       "...                                      ...  \n",
       "1895  c(-79.3911488979682, 36.6044700154587)  \n",
       "1896   c(-81.2212513540019, 36.972624986127)  \n",
       "1897  c(-76.4668048518816, 37.0701152891273)  \n",
       "1898  c(-77.3460273941124, 38.9569849832375)  \n",
       "1899  c(-79.0742462204221, 36.8098872526174)  \n",
       "\n",
       "[1900 rows x 8 columns]"
      ]
     },
     "execution_count": 21,
     "metadata": {},
     "output_type": "execute_result"
    }
   ],
   "source": [
    "# demand"
   ]
  },
  {
   "cell_type": "code",
   "execution_count": 22,
   "id": "138891af",
   "metadata": {},
   "outputs": [],
   "source": [
    "# load in times matrix - converting columns to integers\n",
    "times.origin = times.origin.astype(int)\n",
    "times.dest = times.dest.astype(int)\n",
    "\n",
    "# load in supply matrix - converting columns to integers\n",
    "supply.GEOID = supply.GEOID.astype(int)\n",
    "\n",
    "# load in demand matrix - converting columns to integers\n",
    "demand.GEOID = demand.GEOID.astype(int)\n"
   ]
  },
  {
   "cell_type": "code",
   "execution_count": 23,
   "id": "857aa1ff",
   "metadata": {},
   "outputs": [
    {
     "data": {
      "text/plain": [
       "<function access.weights.step_fn.<locals>.helper(key_to_test)>"
      ]
     },
     "execution_count": 23,
     "metadata": {},
     "output_type": "execute_result"
    }
   ],
   "source": [
    "# weight for enchanced fca\n",
    "fn30 = weights.step_fn({10:1, 20:0.68, 30:0.22})\n",
    "fn30"
   ]
  },
  {
   "cell_type": "code",
   "execution_count": 24,
   "id": "4a04c996",
   "metadata": {},
   "outputs": [
    {
     "data": {
      "text/plain": [
       "<access.access.Access at 0x7faa808656a0>"
      ]
     },
     "execution_count": 24,
     "metadata": {},
     "output_type": "execute_result"
    }
   ],
   "source": [
    "# create Access object\n",
    "A = Access(demand_df = demand,\n",
    "           demand_index = \"GEOID\",\n",
    "           #demand_index = \"health_district\",\n",
    "           demand_value = \"popE\",\n",
    "           supply_df = supply,\n",
    "           supply_index = \"GEOID\",\n",
    "           #supply_index = \"health_district\",\n",
    "           supply_value = \"capacity\",\n",
    "           cost_df = times,\n",
    "           cost_origin = \"origin\",\n",
    "           cost_dest = \"dest\",\n",
    "           cost_name = \"cost\",\n",
    "            neighbor_cost_df = times,\n",
    "           neighbor_cost_origin = \"origin\",\n",
    "           neighbor_cost_dest = \"dest\",\n",
    "           neighbor_cost_name = \"cost\")\n",
    "A"
   ]
  },
  {
   "cell_type": "code",
   "execution_count": 25,
   "id": "f9cc6063",
   "metadata": {},
   "outputs": [
    {
     "name": "stderr",
     "output_type": "stream",
     "text": [
      "/Users/hanna/opt/anaconda3/lib/python3.8/site-packages/access/fca.py:137: UserWarning: some tracts may be unaccounted for in supply_cost\n",
      "  warnings.warn(\"some tracts may be unaccounted for in supply_cost\", stacklevel = 1)\n",
      "/Users/hanna/opt/anaconda3/lib/python3.8/site-packages/access/fca.py:137: UserWarning: some tracts may be unaccounted for in supply_cost\n",
      "  warnings.warn(\"some tracts may be unaccounted for in supply_cost\", stacklevel = 1)\n",
      "/Users/hanna/opt/anaconda3/lib/python3.8/site-packages/access/fca.py:137: UserWarning: some tracts may be unaccounted for in supply_cost\n",
      "  warnings.warn(\"some tracts may be unaccounted for in supply_cost\", stacklevel = 1)\n"
     ]
    }
   ],
   "source": [
    "# obtain fcas\n",
    "info_fca5 = A.fca_ratio(name = \"fca5\", max_cost = 5)\n",
    "info_fca10 = A.fca_ratio(name = \"fca10\", max_cost = 10)\n",
    "info_fca15 = A.fca_ratio(name = \"fca15\", max_cost = 15)\n",
    "info_2sfca5 = A.two_stage_fca(name = \"2sfca5\", max_cost = 5)\n",
    "info_2sfca10 = A.two_stage_fca(name = \"2sfca10\", max_cost = 10)\n",
    "info_2sfca15 = A.two_stage_fca(name = \"2sfca15\", max_cost = 15)\n"
   ]
  },
  {
   "cell_type": "code",
   "execution_count": 26,
   "id": "2431ce9b",
   "metadata": {},
   "outputs": [
    {
     "data": {
      "text/html": [
       "<div>\n",
       "<style scoped>\n",
       "    .dataframe tbody tr th:only-of-type {\n",
       "        vertical-align: middle;\n",
       "    }\n",
       "\n",
       "    .dataframe tbody tr th {\n",
       "        vertical-align: top;\n",
       "    }\n",
       "\n",
       "    .dataframe thead th {\n",
       "        text-align: right;\n",
       "    }\n",
       "</style>\n",
       "<table border=\"1\" class=\"dataframe\">\n",
       "  <thead>\n",
       "    <tr style=\"text-align: right;\">\n",
       "      <th></th>\n",
       "      <th>3sfca_capacity</th>\n",
       "      <th>2sfca30_capacity</th>\n",
       "    </tr>\n",
       "  </thead>\n",
       "  <tbody>\n",
       "    <tr>\n",
       "      <th>count</th>\n",
       "      <td>1899.000000</td>\n",
       "      <td>1899.000000</td>\n",
       "    </tr>\n",
       "    <tr>\n",
       "      <th>mean</th>\n",
       "      <td>1.105710</td>\n",
       "      <td>0.000578</td>\n",
       "    </tr>\n",
       "    <tr>\n",
       "      <th>std</th>\n",
       "      <td>1.711374</td>\n",
       "      <td>0.001002</td>\n",
       "    </tr>\n",
       "    <tr>\n",
       "      <th>min</th>\n",
       "      <td>0.000000</td>\n",
       "      <td>0.000000</td>\n",
       "    </tr>\n",
       "    <tr>\n",
       "      <th>25%</th>\n",
       "      <td>0.116916</td>\n",
       "      <td>0.000000</td>\n",
       "    </tr>\n",
       "    <tr>\n",
       "      <th>50%</th>\n",
       "      <td>0.648055</td>\n",
       "      <td>0.000260</td>\n",
       "    </tr>\n",
       "    <tr>\n",
       "      <th>75%</th>\n",
       "      <td>1.309708</td>\n",
       "      <td>0.000675</td>\n",
       "    </tr>\n",
       "    <tr>\n",
       "      <th>max</th>\n",
       "      <td>14.410786</td>\n",
       "      <td>0.008246</td>\n",
       "    </tr>\n",
       "  </tbody>\n",
       "</table>\n",
       "</div>"
      ],
      "text/plain": [
       "       3sfca_capacity  2sfca30_capacity\n",
       "count     1899.000000       1899.000000\n",
       "mean         1.105710          0.000578\n",
       "std          1.711374          0.001002\n",
       "min          0.000000          0.000000\n",
       "25%          0.116916          0.000000\n",
       "50%          0.648055          0.000260\n",
       "75%          1.309708          0.000675\n",
       "max         14.410786          0.008246"
      ]
     },
     "execution_count": 26,
     "metadata": {},
     "output_type": "execute_result"
    }
   ],
   "source": [
    "enh_2sfca = A.enhanced_two_stage_fca(name = \"2sfca30\", weight_fn = fn30)\n",
    "info_3sfca = A.three_stage_fca(name = \"3sfca\", normalize=True)\n",
    "df = pd.concat([info_3sfca, enh_2sfca], axis=1)\n",
    "df.describe()"
   ]
  },
  {
   "cell_type": "code",
   "execution_count": 27,
   "id": "1850bf99",
   "metadata": {},
   "outputs": [],
   "source": [
    "df.to_csv(\"/Users/hanna/Documents/SDAD Files/VDH Access to Quality Education/programs_data/3sfca_engin_rel_ct.csv\")"
   ]
  },
  {
   "cell_type": "code",
   "execution_count": 34,
   "id": "e7f18288",
   "metadata": {},
   "outputs": [],
   "source": [
    "# full access matrix, doesn't allow enhanced weights \n",
    "# access_df = A.norm_access_df\n",
    "#access_df.to_csv(\"/Users/hanna/Documents/SDAD Files/VDH Access to Quality Education/college_datasets/access_less_two_tr.csv\")"
   ]
  },
  {
   "cell_type": "code",
   "execution_count": 42,
   "id": "5ba959e9",
   "metadata": {},
   "outputs": [
    {
     "data": {
      "text/plain": [
       "count    1899.000000\n",
       "mean        1.045904\n",
       "std         1.139574\n",
       "min         0.000000\n",
       "25%         0.066759\n",
       "50%         0.834350\n",
       "75%         1.555948\n",
       "max         4.729496\n",
       "Name: 3sfca_capacity, dtype: float64"
      ]
     },
     "execution_count": 42,
     "metadata": {},
     "output_type": "execute_result"
    }
   ],
   "source": [
    "#access_df[\"3sfca_capacity\"].describe()"
   ]
  },
  {
   "cell_type": "code",
   "execution_count": null,
   "id": "b3b194ad",
   "metadata": {},
   "outputs": [],
   "source": []
  }
 ],
 "metadata": {
  "kernelspec": {
   "display_name": "Python 3",
   "language": "python",
   "name": "python3"
  },
  "language_info": {
   "codemirror_mode": {
    "name": "ipython",
    "version": 3
   },
   "file_extension": ".py",
   "mimetype": "text/x-python",
   "name": "python",
   "nbconvert_exporter": "python",
   "pygments_lexer": "ipython3",
   "version": "3.8.8"
  }
 },
 "nbformat": 4,
 "nbformat_minor": 5
}
